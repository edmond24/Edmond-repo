{
 "cells": [
  {
   "cell_type": "code",
   "execution_count": 1,
   "metadata": {
    "collapsed": false
   },
   "outputs": [
    {
     "name": "stdout",
     "output_type": "stream",
     "text": [
      "/Users/edmond_20000/Desktop/Edmond-repo/projects/final-projects\r\n"
     ]
    }
   ],
   "source": [
    "!pwd"
   ]
  },
  {
   "cell_type": "code",
   "execution_count": 2,
   "metadata": {
    "collapsed": false
   },
   "outputs": [],
   "source": [
    "import pandas as pd\n",
    "from dateutil import relativedelta as rdelta\n",
    "import datetime\n",
    "import matplotlib.pyplot as plt \n",
    "%matplotlib inline \n",
    "import seaborn as sic"
   ]
  },
  {
   "cell_type": "code",
   "execution_count": 3,
   "metadata": {
    "collapsed": false
   },
   "outputs": [],
   "source": [
    "df = pd.read_excel(\"patients_report_list_new.xlsx\") #patients dataset path"
   ]
  },
  {
   "cell_type": "code",
   "execution_count": 4,
   "metadata": {
    "collapsed": false
   },
   "outputs": [
    {
     "data": {
      "text/html": [
       "<div>\n",
       "<table border=\"1\" class=\"dataframe\">\n",
       "  <thead>\n",
       "    <tr style=\"text-align: right;\">\n",
       "      <th></th>\n",
       "      <th>Patient Number</th>\n",
       "      <th>Date of Service</th>\n",
       "      <th>Scheduled Return Date</th>\n",
       "      <th>DATE</th>\n",
       "      <th>Date of birth</th>\n",
       "      <th>First Name</th>\n",
       "      <th>Gender</th>\n",
       "      <th>State</th>\n",
       "      <th>Address</th>\n",
       "      <th>City</th>\n",
       "      <th>Diagnosis Detail</th>\n",
       "    </tr>\n",
       "  </thead>\n",
       "  <tbody>\n",
       "    <tr>\n",
       "      <th>0</th>\n",
       "      <td>79-0096808</td>\n",
       "      <td>4/18/2016</td>\n",
       "      <td>2/8/2017</td>\n",
       "      <td>True</td>\n",
       "      <td>8/12/1974</td>\n",
       "      <td>Margaret Frazier</td>\n",
       "      <td>Female</td>\n",
       "      <td>New York</td>\n",
       "      <td>0 Westridge Hill</td>\n",
       "      <td>New York City</td>\n",
       "      <td>mild</td>\n",
       "    </tr>\n",
       "    <tr>\n",
       "      <th>1</th>\n",
       "      <td>01-1402733</td>\n",
       "      <td>2016-02-26 00:00:00</td>\n",
       "      <td>2016-08-30 00:00:00</td>\n",
       "      <td>False</td>\n",
       "      <td>7/31/1973</td>\n",
       "      <td>Johnny Bradley</td>\n",
       "      <td>Male</td>\n",
       "      <td>California</td>\n",
       "      <td>57498 Banding Court</td>\n",
       "      <td>Stockton</td>\n",
       "      <td>serious</td>\n",
       "    </tr>\n",
       "    <tr>\n",
       "      <th>2</th>\n",
       "      <td>41-0477300</td>\n",
       "      <td>3/8/2016</td>\n",
       "      <td>2/18/2017</td>\n",
       "      <td>True</td>\n",
       "      <td>8/13/1954</td>\n",
       "      <td>Gregory Rose</td>\n",
       "      <td>Male</td>\n",
       "      <td>Ohio</td>\n",
       "      <td>93 Red Cloud Alley</td>\n",
       "      <td>Columbus</td>\n",
       "      <td>mild</td>\n",
       "    </tr>\n",
       "    <tr>\n",
       "      <th>3</th>\n",
       "      <td>40-5336702</td>\n",
       "      <td>10/8/2016</td>\n",
       "      <td>2017-01-07 00:00:00</td>\n",
       "      <td>True</td>\n",
       "      <td>10/24/1971</td>\n",
       "      <td>Sharon Clark</td>\n",
       "      <td>Female</td>\n",
       "      <td>Alabama</td>\n",
       "      <td>3957 Fisk Alley</td>\n",
       "      <td>Birmingham</td>\n",
       "      <td>normal</td>\n",
       "    </tr>\n",
       "    <tr>\n",
       "      <th>4</th>\n",
       "      <td>99-3992926</td>\n",
       "      <td>2016-11-23 00:00:00</td>\n",
       "      <td>1/23/2017</td>\n",
       "      <td>False</td>\n",
       "      <td>8/7/1984</td>\n",
       "      <td>Earl Hayes</td>\n",
       "      <td>Male</td>\n",
       "      <td>Mississippi</td>\n",
       "      <td>8398 Service Place</td>\n",
       "      <td>Columbus</td>\n",
       "      <td>mild</td>\n",
       "    </tr>\n",
       "  </tbody>\n",
       "</table>\n",
       "</div>"
      ],
      "text/plain": [
       "  Patient Number      Date of Service Scheduled Return Date   DATE  \\\n",
       "0     79-0096808            4/18/2016              2/8/2017   True   \n",
       "1     01-1402733  2016-02-26 00:00:00   2016-08-30 00:00:00  False   \n",
       "2     41-0477300             3/8/2016             2/18/2017   True   \n",
       "3     40-5336702            10/8/2016   2017-01-07 00:00:00   True   \n",
       "4     99-3992926  2016-11-23 00:00:00             1/23/2017  False   \n",
       "\n",
       "  Date of birth        First Name  Gender        State              Address  \\\n",
       "0     8/12/1974  Margaret Frazier  Female     New York     0 Westridge Hill   \n",
       "1     7/31/1973    Johnny Bradley    Male   California  57498 Banding Court   \n",
       "2     8/13/1954      Gregory Rose    Male         Ohio   93 Red Cloud Alley   \n",
       "3    10/24/1971      Sharon Clark  Female      Alabama      3957 Fisk Alley   \n",
       "4      8/7/1984        Earl Hayes    Male  Mississippi   8398 Service Place   \n",
       "\n",
       "            City Diagnosis Detail  \n",
       "0  New York City             mild  \n",
       "1       Stockton          serious  \n",
       "2       Columbus             mild  \n",
       "3     Birmingham           normal  \n",
       "4       Columbus             mild  "
      ]
     },
     "execution_count": 4,
     "metadata": {},
     "output_type": "execute_result"
    }
   ],
   "source": [
    "df.head() #seeing how the data looks like"
   ]
  },
  {
   "cell_type": "code",
   "execution_count": 5,
   "metadata": {
    "collapsed": true
   },
   "outputs": [],
   "source": [
    "import datetime #reading the dates"
   ]
  },
  {
   "cell_type": "code",
   "execution_count": 6,
   "metadata": {
    "collapsed": true
   },
   "outputs": [],
   "source": [
    "df[\"Scheduled Return Date\"] = df[\"Scheduled Return Date\"].astype(str)\n",
    "df[\"Date of Service\"] = df[\"Date of Service\"].astype(str)\n",
    "df[\"Date of birth\"] = df[\"Date of birth\"].astype(str)"
   ]
  },
  {
   "cell_type": "code",
   "execution_count": 7,
   "metadata": {
    "collapsed": false
   },
   "outputs": [
    {
     "data": {
      "text/plain": [
       "array(['2/8/2017', '2016-08-30 00:00:00', '2/18/2017',\n",
       "       '2017-01-07 00:00:00', '1/23/2017', '2017-01-06 00:00:00',\n",
       "       '10/16/2016', '3/14/2017', '4/5/2017', '1/18/2017',\n",
       "       '2017-03-09 00:00:00', '2016-07-17 00:00:00', '2017-03-11 00:00:00',\n",
       "       '3/3/2017', '3/28/2017', '6/22/2017', '7/21/2017', '11/18/2016',\n",
       "       '1/6/2017', '5/6/2017', '2/4/2017', '2016-10-18 00:00:00',\n",
       "       '2/11/2017', '11/25/2016', '7/31/2017', '2017-01-28 00:00:00',\n",
       "       '2016-12-30 00:00:00', '4/25/2017', '2016-12-29 00:00:00',\n",
       "       '2016-12-01 00:00:00', '6/20/2017', '11/20/2016', '12/24/2016',\n",
       "       '5/9/2017', '12/27/2016', '12/22/2016', '10/7/2016', '1/21/2017',\n",
       "       '2017-03-19 00:00:00', '2/26/2017', '5/7/2017', '11/15/2016',\n",
       "       '2017-01-20 00:00:00', '6/16/2017', '4/19/2017',\n",
       "       '2016-12-05 00:00:00', '3/27/2017', '2016-12-24 00:00:00',\n",
       "       '3/7/2017', '4/16/2017', '7/2/2017', '10/12/2016', '11/16/2016',\n",
       "       '6/8/2017', '2016-12-12 00:00:00', '2/20/2017', '2/22/2017',\n",
       "       '2016-12-22 00:00:00', '10/22/2016', '2/6/2017',\n",
       "       '2017-03-27 00:00:00', '6/17/2017', '4/2/2017',\n",
       "       '2017-01-27 00:00:00', '1/26/2017', '7/1/2017',\n",
       "       '2016-11-01 00:00:00', '6/19/2017', '2017-01-30 00:00:00',\n",
       "       '10/15/2016', '2/17/2017', '1/28/2017', '2017-01-09 00:00:00',\n",
       "       '4/13/2017', '1/11/2017', '2016-12-15 00:00:00', '1/14/2017',\n",
       "       '6/11/2017', '11/28/2016', '12/14/2016', '2/3/2017',\n",
       "       '2017-01-25 00:00:00', '6/29/2017', '7/22/2017',\n",
       "       '2016-12-06 00:00:00', '2016-12-04 00:00:00', '2017-01-29 00:00:00',\n",
       "       '2016-12-31 00:00:00', '2016-12-13 00:00:00', '2017-02-03 00:00:00',\n",
       "       '2017-01-14 00:00:00', '1/12/2017', '6/2/2017',\n",
       "       '2017-01-03 00:00:00', '5/26/2017', '5/20/2017', '7/5/2017',\n",
       "       '4/22/2017', '2017-07-01 00:00:00', '2016-10-11 00:00:00',\n",
       "       '1/29/2017', '2017-03-12 00:00:00', '6/4/2017',\n",
       "       '2017-01-17 00:00:00', '1/10/2017', '6/26/2017', '7/23/2017',\n",
       "       '3/10/2017', '5/3/2017', '2016-12-09 00:00:00', '7/4/2017',\n",
       "       '5/31/2017', '3/2/2017', '12/11/2016', '3/6/2017', '1/8/2017',\n",
       "       '2017-02-04 00:00:00', '2017-02-28 00:00:00', '11/29/2016',\n",
       "       '7/20/2017', '5/23/2017', '5/22/2017', '7/26/2017', '1/20/2017',\n",
       "       '2016-12-23 00:00:00', '1/27/2017', '4/14/2017', '1/3/2017',\n",
       "       '6/7/2017', '7/15/2017', '4/26/2017', '6/24/2017', '11/11/2016',\n",
       "       '3/24/2017', '12/4/2016', '4/20/2017', '5/28/2017', '11/19/2016',\n",
       "       '6/6/2017', '5/12/2016', '1/30/2017', '3/12/2017', '5/4/2017',\n",
       "       '4/17/2017', '5/12/2017', '10/11/2016', '10/9/2016', '5/30/2017',\n",
       "       '5/1/2017', '4/18/2017', '9/11/2016', '5/24/2017', '11/2/2016',\n",
       "       '2/21/2017', '3/20/2017', '7/29/2017', '2/12/2017', '11/4/2016',\n",
       "       '5/24/2016', '12/6/2016', '12/17/2016', '7/13/2016', '5/7/2016',\n",
       "       '5/31/2016', '2016-12-10 00:00:00', '10/29/2016', '6/31/2016',\n",
       "       '12/2/2016', '8/8/2016', '10/18/2016', '8/2/2016', '4/27/2017',\n",
       "       '2/9/2017', '1/16/2017', '10/25/2016', '6/27/2017', '6/13/2017',\n",
       "       '11/6/2016', '11/3/2016', '6/1/2017', '10/17/2016', '5/27/2017',\n",
       "       '1/22/2017', '2017-02-06 00:00:00', '12/26/2016', '10/10/2016',\n",
       "       '10/14/2016', '2017-07-15 00:00:00', '2017-10-01 00:00:00',\n",
       "       '5/18/2017', '5/8/2017', '1/5/2017', '5/2/2017',\n",
       "       '2017-01-13 00:00:00', '7/7/2017', '1/31/2017', '4/6/2017',\n",
       "       '2/5/2017', '5/5/2017', '2017-08-24 00:00:00',\n",
       "       '2016-12-19 00:00:00', '11/12/2016', '5/10/2017', '10/23/2016',\n",
       "       '2017-01-15 00:00:00', '2/25/2017', '1/25/2017', '10/2/2016',\n",
       "       '6/28/2016', '2017-10-17 00:00:00', '2017-04-05 00:00:00',\n",
       "       '2017-10-26 00:00:00', '2017-05-29 00:00:00', '2016-10-02 00:00:00',\n",
       "       '12/3/2016', '2017-10-28 00:00:00', '2017-01-04 00:00:00',\n",
       "       '2017-06-09 00:00:00', '2017-06-20 00:00:00', '2017-01-26 00:00:00',\n",
       "       '4/24/2017', '12/31/2016', '8/22/2016', '2016-12-26 00:00:00',\n",
       "       '9/14/2016', '12/15/2016', '3/1/2017', '4/3/2017', '6/14/2017',\n",
       "       '7/12/2017', '2017-03-24 00:00:00', '7/10/2017',\n",
       "       '2016-12-27 00:00:00', '2017-01-12 00:00:00', '2017-07-16 00:00:00',\n",
       "       '2017-02-22 00:00:00', '2017-04-08 00:00:00', '2016-12-16 00:00:00',\n",
       "       '2017-11-01 00:00:00', '10/3/2016', '12/8/2016',\n",
       "       '2017-05-12 00:00:00', '6/10/2017', '2017-07-17 00:00:00',\n",
       "       '3/4/2017', '2/27/2017', '2017-11-18 00:00:00',\n",
       "       '2017-05-18 00:00:00', '2017-05-14 00:00:00', '10/4/2016',\n",
       "       '2017-04-24 00:00:00', '2017-12-22 00:00:00', '2017-03-29 00:00:00',\n",
       "       '2/28/2017', '3/5/2017', '2017-01-01 00:00:00',\n",
       "       '2017-01-21 00:00:00', '4/30/2017', '1/1/2017', '3/31/2017',\n",
       "       '2017-03-01 00:00:00', '6/12/2017', '4/12/2017', '12/29/2016',\n",
       "       '5/29/2017', '2017-01-19 00:00:00', '1/2/2017',\n",
       "       '2017-02-11 00:00:00', '2016-12-21 00:00:00', '3/21/2017',\n",
       "       '2016-10-13 00:00:00', '2017-02-13 00:00:00', '4/28/2017',\n",
       "       '2/19/2017', '10/8/2016', '2017-02-18 00:00:00',\n",
       "       '2017-02-16 00:00:00', '10/30/2016', '2017-01-08 00:00:00',\n",
       "       '1/4/2017', '2016-12-25 00:00:00', '6/21/2017', '6/15/2017',\n",
       "       '12/9/2016', '4/1/2017', '3/13/2017', '4/23/2017',\n",
       "       '2016-07-05 00:00:00', '2016-02-12 00:00:00', '10/28/2016',\n",
       "       '7/25/2016', '2016-12-08 00:00:00', '2/16/2017',\n",
       "       '2017-02-21 00:00:00', '7/28/2017', '11/30/2016', '7/27/2017',\n",
       "       '6/25/2017', '5/15/2017', '2017-06-17 00:00:00',\n",
       "       '2017-05-21 00:00:00', '11/24/2016', '5/19/2017', '1/24/2017',\n",
       "       '2017-01-31 00:00:00', '2016-12-14 00:00:00', '12/10/2016',\n",
       "       '2017-08-06 00:00:00', '3/29/2017', '2016-12-17 00:00:00',\n",
       "       '6/5/2017'], dtype=object)"
      ]
     },
     "execution_count": 7,
     "metadata": {},
     "output_type": "execute_result"
    }
   ],
   "source": [
    "df[\"Scheduled Return Date\"].unique() #what are all the scheduled returned date of all the patients"
   ]
  },
  {
   "cell_type": "code",
   "execution_count": 63,
   "metadata": {
    "collapsed": false
   },
   "outputs": [
    {
     "name": "stdout",
     "output_type": "stream",
     "text": [
      "2017-02-07\n"
     ]
    }
   ],
   "source": [
    "today = datetime.date.today() #Checking today's date\n",
    "print today"
   ]
  },
  {
   "cell_type": "code",
   "execution_count": 64,
   "metadata": {
    "collapsed": false
   },
   "outputs": [
    {
     "name": "stdout",
     "output_type": "stream",
     "text": [
      "ctime: Tue Feb  7 00:00:00 2017\n"
     ]
    }
   ],
   "source": [
    "print 'ctime:', today.ctime()"
   ]
  },
  {
   "cell_type": "code",
   "execution_count": 8,
   "metadata": {
    "collapsed": false
   },
   "outputs": [],
   "source": [
    "date1 = datetime.datetime.strptime(\"4/18/2016\",\"%M/%d/%Y\") #Service date"
   ]
  },
  {
   "cell_type": "code",
   "execution_count": 9,
   "metadata": {
    "collapsed": false
   },
   "outputs": [],
   "source": [
    "date2 = datetime.datetime.strptime('2017-02-08 00:00:00',\"%Y-%m-%d %H:%M:%S\") #current date"
   ]
  },
  {
   "cell_type": "code",
   "execution_count": 10,
   "metadata": {
    "collapsed": false
   },
   "outputs": [
    {
     "data": {
      "text/plain": [
       "386"
      ]
     },
     "execution_count": 10,
     "metadata": {},
     "output_type": "execute_result"
    }
   ],
   "source": [
    "(date2 - date1).days #difference between the first date of the service to currrent date"
   ]
  },
  {
   "cell_type": "code",
   "execution_count": 11,
   "metadata": {
    "collapsed": false
   },
   "outputs": [],
   "source": [
    "#using the CleanDate function to convert all the dates to one date format. 0000-00-00\n",
    "def cleanDate(someDate):\n",
    "    if someDate == None:\n",
    "        return someDate\n",
    "\n",
    "    if \"/\" in someDate:\n",
    "        finalDate = datetime.datetime.strptime(someDate,\"%M/%d/%Y\") \n",
    "    else:\n",
    "        finalDate = datetime.datetime.strptime(someDate,\"%Y-%m-%d %H:%M:%S\")\n",
    "    return finalDate"
   ]
  },
  {
   "cell_type": "code",
   "execution_count": 12,
   "metadata": {
    "collapsed": false
   },
   "outputs": [],
   "source": [
    "df['Date of birth'] = df[\"Date of birth\"].apply(cleanDate) #convert date of birth format to yyyy-mm-dd"
   ]
  },
  {
   "cell_type": "code",
   "execution_count": 13,
   "metadata": {
    "collapsed": false
   },
   "outputs": [],
   "source": [
    "df[\"Scheduled Return Date\"] = df[\"Scheduled Return Date\"].apply(cleanDate) #convert scheduled return date to yyyy-mm-dd"
   ]
  },
  {
   "cell_type": "code",
   "execution_count": 14,
   "metadata": {
    "collapsed": false
   },
   "outputs": [],
   "source": [
    "df[\"Date of Service\"] = df[\"Date of Service\"].apply(cleanDate) #conveting date of service format to yyyy-mm-dd"
   ]
  },
  {
   "cell_type": "code",
   "execution_count": 65,
   "metadata": {
    "collapsed": true
   },
   "outputs": [],
   "source": [
    "todayDate = datetime.datetime.now() "
   ]
  },
  {
   "cell_type": "code",
   "execution_count": 16,
   "metadata": {
    "collapsed": false
   },
   "outputs": [
    {
     "data": {
      "text/html": [
       "<div>\n",
       "<table border=\"1\" class=\"dataframe\">\n",
       "  <thead>\n",
       "    <tr style=\"text-align: right;\">\n",
       "      <th></th>\n",
       "      <th>Patient Number</th>\n",
       "      <th>Date of Service</th>\n",
       "      <th>Scheduled Return Date</th>\n",
       "      <th>DATE</th>\n",
       "      <th>Date of birth</th>\n",
       "      <th>First Name</th>\n",
       "      <th>Gender</th>\n",
       "      <th>State</th>\n",
       "      <th>Address</th>\n",
       "      <th>City</th>\n",
       "      <th>Diagnosis Detail</th>\n",
       "    </tr>\n",
       "  </thead>\n",
       "  <tbody>\n",
       "    <tr>\n",
       "      <th>0</th>\n",
       "      <td>79-0096808</td>\n",
       "      <td>2016-01-18 00:04:00</td>\n",
       "      <td>2017-01-08 00:02:00</td>\n",
       "      <td>True</td>\n",
       "      <td>1974-01-12 00:08:00</td>\n",
       "      <td>Margaret Frazier</td>\n",
       "      <td>Female</td>\n",
       "      <td>New York</td>\n",
       "      <td>0 Westridge Hill</td>\n",
       "      <td>New York City</td>\n",
       "      <td>mild</td>\n",
       "    </tr>\n",
       "    <tr>\n",
       "      <th>1</th>\n",
       "      <td>01-1402733</td>\n",
       "      <td>2016-02-26 00:00:00</td>\n",
       "      <td>2016-08-30 00:00:00</td>\n",
       "      <td>False</td>\n",
       "      <td>1973-01-31 00:07:00</td>\n",
       "      <td>Johnny Bradley</td>\n",
       "      <td>Male</td>\n",
       "      <td>California</td>\n",
       "      <td>57498 Banding Court</td>\n",
       "      <td>Stockton</td>\n",
       "      <td>serious</td>\n",
       "    </tr>\n",
       "    <tr>\n",
       "      <th>2</th>\n",
       "      <td>41-0477300</td>\n",
       "      <td>2016-01-08 00:03:00</td>\n",
       "      <td>2017-01-18 00:02:00</td>\n",
       "      <td>True</td>\n",
       "      <td>1954-01-13 00:08:00</td>\n",
       "      <td>Gregory Rose</td>\n",
       "      <td>Male</td>\n",
       "      <td>Ohio</td>\n",
       "      <td>93 Red Cloud Alley</td>\n",
       "      <td>Columbus</td>\n",
       "      <td>mild</td>\n",
       "    </tr>\n",
       "    <tr>\n",
       "      <th>3</th>\n",
       "      <td>40-5336702</td>\n",
       "      <td>2016-01-08 00:10:00</td>\n",
       "      <td>2017-01-07 00:00:00</td>\n",
       "      <td>True</td>\n",
       "      <td>1971-01-24 00:10:00</td>\n",
       "      <td>Sharon Clark</td>\n",
       "      <td>Female</td>\n",
       "      <td>Alabama</td>\n",
       "      <td>3957 Fisk Alley</td>\n",
       "      <td>Birmingham</td>\n",
       "      <td>normal</td>\n",
       "    </tr>\n",
       "    <tr>\n",
       "      <th>4</th>\n",
       "      <td>99-3992926</td>\n",
       "      <td>2016-11-23 00:00:00</td>\n",
       "      <td>2017-01-23 00:01:00</td>\n",
       "      <td>False</td>\n",
       "      <td>1984-01-07 00:08:00</td>\n",
       "      <td>Earl Hayes</td>\n",
       "      <td>Male</td>\n",
       "      <td>Mississippi</td>\n",
       "      <td>8398 Service Place</td>\n",
       "      <td>Columbus</td>\n",
       "      <td>mild</td>\n",
       "    </tr>\n",
       "  </tbody>\n",
       "</table>\n",
       "</div>"
      ],
      "text/plain": [
       "  Patient Number     Date of Service Scheduled Return Date   DATE  \\\n",
       "0     79-0096808 2016-01-18 00:04:00   2017-01-08 00:02:00   True   \n",
       "1     01-1402733 2016-02-26 00:00:00   2016-08-30 00:00:00  False   \n",
       "2     41-0477300 2016-01-08 00:03:00   2017-01-18 00:02:00   True   \n",
       "3     40-5336702 2016-01-08 00:10:00   2017-01-07 00:00:00   True   \n",
       "4     99-3992926 2016-11-23 00:00:00   2017-01-23 00:01:00  False   \n",
       "\n",
       "        Date of birth        First Name  Gender        State  \\\n",
       "0 1974-01-12 00:08:00  Margaret Frazier  Female     New York   \n",
       "1 1973-01-31 00:07:00    Johnny Bradley    Male   California   \n",
       "2 1954-01-13 00:08:00      Gregory Rose    Male         Ohio   \n",
       "3 1971-01-24 00:10:00      Sharon Clark  Female      Alabama   \n",
       "4 1984-01-07 00:08:00        Earl Hayes    Male  Mississippi   \n",
       "\n",
       "               Address           City Diagnosis Detail  \n",
       "0     0 Westridge Hill  New York City             mild  \n",
       "1  57498 Banding Court       Stockton          serious  \n",
       "2   93 Red Cloud Alley       Columbus             mild  \n",
       "3      3957 Fisk Alley     Birmingham           normal  \n",
       "4   8398 Service Place       Columbus             mild  "
      ]
     },
     "execution_count": 16,
     "metadata": {},
     "output_type": "execute_result"
    }
   ],
   "source": [
    "df.head() #how the dataframe looking now after fixing the date format"
   ]
  },
  {
   "cell_type": "code",
   "execution_count": 17,
   "metadata": {
    "collapsed": true
   },
   "outputs": [],
   "source": [
    "#need to get the difference in date\n",
    "def getDateDelta(x):\n",
    "    dateOfService = x[0]\n",
    "    scheduledDate = x[1]\n",
    "    return (scheduledDate - dateOfService).days"
   ]
  },
  {
   "cell_type": "code",
   "execution_count": 18,
   "metadata": {
    "collapsed": false
   },
   "outputs": [],
   "source": [
    "df[\"dateToReturn\"] = df[[\"Date of Service\",\"Scheduled Return Date\"]].apply(getDateDelta, axis = 1) \n",
    "#dateToReturn will be the date difference from the first date of service up to the return service date"
   ]
  },
  {
   "cell_type": "code",
   "execution_count": 19,
   "metadata": {
    "collapsed": false
   },
   "outputs": [],
   "source": [
    "import datetime\n",
    "import dateutil\n",
    "\n",
    "def birthday(date):\n",
    "    # Get the current date\n",
    "    now = datetime.datetime.now()\n",
    "\n",
    "    # Get the difference between the current date and the birthday\n",
    "    age = dateutil.relativedelta.relativedelta(now, date)\n",
    "    age = age.years\n",
    "\n",
    "    return age\n",
    "\n",
    "df['Age'] = df['Date of birth'].apply(birthday) "
   ]
  },
  {
   "cell_type": "code",
   "execution_count": 20,
   "metadata": {
    "collapsed": false
   },
   "outputs": [],
   "source": [
    "def binAge(age): #binning the date so 4 will be the oldest\n",
    "    if age <= 20:\n",
    "        aG = 1\n",
    "    elif age <= 40:\n",
    "        aG = 2\n",
    "    elif age <= 60:\n",
    "        aG= 3\n",
    "    else:\n",
    "        aG = 4\n",
    "    return aG"
   ]
  },
  {
   "cell_type": "code",
   "execution_count": 21,
   "metadata": {
    "collapsed": false
   },
   "outputs": [],
   "source": [
    "df[\"ageGroup\"] = df.Age.apply(binAge) #using ageGroup instead of Age"
   ]
  },
  {
   "cell_type": "code",
   "execution_count": 22,
   "metadata": {
    "collapsed": false
   },
   "outputs": [
    {
     "data": {
      "text/plain": [
       "65"
      ]
     },
     "execution_count": 22,
     "metadata": {},
     "output_type": "execute_result"
    }
   ],
   "source": [
    "df['Age'].max() #getting the Max age"
   ]
  },
  {
   "cell_type": "code",
   "execution_count": 23,
   "metadata": {
    "collapsed": false
   },
   "outputs": [
    {
     "data": {
      "text/plain": [
       "2"
      ]
     },
     "execution_count": 23,
     "metadata": {},
     "output_type": "execute_result"
    }
   ],
   "source": [
    "diagnosisDictionary = {\"normal\" : 1, \"mild\" : 2, \"serious\" : 3, 'grave' : 4  } #assigning numbers to diagnosis\n",
    "\n",
    "diagnosisDictionary[\"normal\"]\n",
    "diagnosisDictionary[\"mild\"]"
   ]
  },
  {
   "cell_type": "code",
   "execution_count": 24,
   "metadata": {
    "collapsed": false
   },
   "outputs": [
    {
     "data": {
      "text/html": [
       "<div>\n",
       "<table border=\"1\" class=\"dataframe\">\n",
       "  <thead>\n",
       "    <tr style=\"text-align: right;\">\n",
       "      <th></th>\n",
       "      <th>dateToReturn</th>\n",
       "      <th>ageGroup</th>\n",
       "      <th>Gender</th>\n",
       "      <th>Diagnosis Detail</th>\n",
       "      <th>City</th>\n",
       "      <th>Age</th>\n",
       "    </tr>\n",
       "  </thead>\n",
       "  <tbody>\n",
       "    <tr>\n",
       "      <th>0</th>\n",
       "      <td>355</td>\n",
       "      <td>3</td>\n",
       "      <td>0</td>\n",
       "      <td>2</td>\n",
       "      <td>New York City</td>\n",
       "      <td>43</td>\n",
       "    </tr>\n",
       "    <tr>\n",
       "      <th>1</th>\n",
       "      <td>186</td>\n",
       "      <td>3</td>\n",
       "      <td>1</td>\n",
       "      <td>3</td>\n",
       "      <td>Stockton</td>\n",
       "      <td>44</td>\n",
       "    </tr>\n",
       "    <tr>\n",
       "      <th>2</th>\n",
       "      <td>375</td>\n",
       "      <td>4</td>\n",
       "      <td>1</td>\n",
       "      <td>2</td>\n",
       "      <td>Columbus</td>\n",
       "      <td>63</td>\n",
       "    </tr>\n",
       "    <tr>\n",
       "      <th>3</th>\n",
       "      <td>364</td>\n",
       "      <td>3</td>\n",
       "      <td>0</td>\n",
       "      <td>1</td>\n",
       "      <td>Birmingham</td>\n",
       "      <td>46</td>\n",
       "    </tr>\n",
       "    <tr>\n",
       "      <th>4</th>\n",
       "      <td>61</td>\n",
       "      <td>2</td>\n",
       "      <td>1</td>\n",
       "      <td>2</td>\n",
       "      <td>Columbus</td>\n",
       "      <td>33</td>\n",
       "    </tr>\n",
       "  </tbody>\n",
       "</table>\n",
       "</div>"
      ],
      "text/plain": [
       "   dateToReturn  ageGroup  Gender  Diagnosis Detail           City  Age\n",
       "0           355         3       0                 2  New York City   43\n",
       "1           186         3       1                 3       Stockton   44\n",
       "2           375         4       1                 2       Columbus   63\n",
       "3           364         3       0                 1     Birmingham   46\n",
       "4            61         2       1                 2       Columbus   33"
      ]
     },
     "execution_count": 24,
     "metadata": {},
     "output_type": "execute_result"
    }
   ],
   "source": [
    "diagnosisDictionary = {\"normal\" : 1, \"mild\" : 2, \"serious\" : 3, 'grave' : 4  }\n",
    "\n",
    "#New dataframe with only the columns needed\n",
    "def diagnosisToInt(code):\n",
    "    code = code.strip()\n",
    "    return diagnosisDictionary[code]\n",
    "    \n",
    "ColumnsToKeep = [\"dateToReturn\", \"ageGroup\", \"Gender\", \"Diagnosis Detail\", \"City\", \"Age\"]\n",
    "df[\"Gender\"] = df[\"Gender\"].str.contains(\"Male\").astype(int)\n",
    "df[\"Diagnosis Detail\"] = df[\"Diagnosis Detail\"].apply(lambda code: diagnosisToInt(code))\n",
    "                 \n",
    "df2 = df[ColumnsToKeep]\n",
    "df2.head()"
   ]
  },
  {
   "cell_type": "code",
   "execution_count": 25,
   "metadata": {
    "collapsed": false
   },
   "outputs": [
    {
     "data": {
      "text/plain": [
       "<matplotlib.axes._subplots.AxesSubplot at 0x104645e50>"
      ]
     },
     "execution_count": 25,
     "metadata": {},
     "output_type": "execute_result"
    },
    {
     "data": {
      "image/png": "[encoded data removed]",
      "text/plain": [
       "<matplotlib.figure.Figure at 0x114eb5550>"
      ]
     },
     "metadata": {},
     "output_type": "display_data"
    }
   ],
   "source": [
    "sic.barplot(x= df2.ageGroup, y= df2[\"Diagnosis Detail\"])"
   ]
  },
  {
   "cell_type": "code",
   "execution_count": 32,
   "metadata": {
    "collapsed": false,
    "scrolled": true
   },
   "outputs": [
    {
     "data": {
      "text/html": [
       "<div>\n",
       "<table border=\"1\" class=\"dataframe\">\n",
       "  <thead>\n",
       "    <tr style=\"text-align: right;\">\n",
       "      <th></th>\n",
       "      <th></th>\n",
       "      <th>Age</th>\n",
       "      <th>Gender</th>\n",
       "      <th>ageGroup</th>\n",
       "      <th>dateToReturn</th>\n",
       "    </tr>\n",
       "    <tr>\n",
       "      <th>Diagnosis Detail</th>\n",
       "      <th></th>\n",
       "      <th></th>\n",
       "      <th></th>\n",
       "      <th></th>\n",
       "      <th></th>\n",
       "    </tr>\n",
       "  </thead>\n",
       "  <tbody>\n",
       "    <tr>\n",
       "      <th rowspan=\"8\" valign=\"top\">1</th>\n",
       "      <th>count</th>\n",
       "      <td>150.000000</td>\n",
       "      <td>150.000000</td>\n",
       "      <td>150.000000</td>\n",
       "      <td>150.000000</td>\n",
       "    </tr>\n",
       "    <tr>\n",
       "      <th>mean</th>\n",
       "      <td>40.253333</td>\n",
       "      <td>0.400000</td>\n",
       "      <td>2.500000</td>\n",
       "      <td>297.153333</td>\n",
       "    </tr>\n",
       "    <tr>\n",
       "      <th>std</th>\n",
       "      <td>13.727544</td>\n",
       "      <td>0.491539</td>\n",
       "      <td>0.739581</td>\n",
       "      <td>168.150410</td>\n",
       "    </tr>\n",
       "    <tr>\n",
       "      <th>min</th>\n",
       "      <td>17.000000</td>\n",
       "      <td>0.000000</td>\n",
       "      <td>1.000000</td>\n",
       "      <td>-88.000000</td>\n",
       "    </tr>\n",
       "    <tr>\n",
       "      <th>25%</th>\n",
       "      <td>28.250000</td>\n",
       "      <td>0.000000</td>\n",
       "      <td>2.000000</td>\n",
       "      <td>326.750000</td>\n",
       "    </tr>\n",
       "    <tr>\n",
       "      <th>50%</th>\n",
       "      <td>40.000000</td>\n",
       "      <td>0.000000</td>\n",
       "      <td>2.000000</td>\n",
       "      <td>362.000000</td>\n",
       "    </tr>\n",
       "    <tr>\n",
       "      <th>75%</th>\n",
       "      <td>51.000000</td>\n",
       "      <td>1.000000</td>\n",
       "      <td>3.000000</td>\n",
       "      <td>375.750000</td>\n",
       "    </tr>\n",
       "    <tr>\n",
       "      <th>max</th>\n",
       "      <td>65.000000</td>\n",
       "      <td>1.000000</td>\n",
       "      <td>4.000000</td>\n",
       "      <td>656.000000</td>\n",
       "    </tr>\n",
       "    <tr>\n",
       "      <th rowspan=\"8\" valign=\"top\">2</th>\n",
       "      <th>count</th>\n",
       "      <td>129.000000</td>\n",
       "      <td>129.000000</td>\n",
       "      <td>129.000000</td>\n",
       "      <td>129.000000</td>\n",
       "    </tr>\n",
       "    <tr>\n",
       "      <th>mean</th>\n",
       "      <td>41.534884</td>\n",
       "      <td>0.542636</td>\n",
       "      <td>2.565891</td>\n",
       "      <td>261.976744</td>\n",
       "    </tr>\n",
       "    <tr>\n",
       "      <th>std</th>\n",
       "      <td>14.215994</td>\n",
       "      <td>0.500121</td>\n",
       "      <td>0.808596</td>\n",
       "      <td>178.010115</td>\n",
       "    </tr>\n",
       "    <tr>\n",
       "      <th>min</th>\n",
       "      <td>17.000000</td>\n",
       "      <td>0.000000</td>\n",
       "      <td>1.000000</td>\n",
       "      <td>-29.000000</td>\n",
       "    </tr>\n",
       "    <tr>\n",
       "      <th>25%</th>\n",
       "      <td>30.000000</td>\n",
       "      <td>0.000000</td>\n",
       "      <td>2.000000</td>\n",
       "      <td>22.000000</td>\n",
       "    </tr>\n",
       "    <tr>\n",
       "      <th>50%</th>\n",
       "      <td>43.000000</td>\n",
       "      <td>1.000000</td>\n",
       "      <td>3.000000</td>\n",
       "      <td>358.000000</td>\n",
       "    </tr>\n",
       "    <tr>\n",
       "      <th>75%</th>\n",
       "      <td>52.000000</td>\n",
       "      <td>1.000000</td>\n",
       "      <td>3.000000</td>\n",
       "      <td>370.000000</td>\n",
       "    </tr>\n",
       "    <tr>\n",
       "      <th>max</th>\n",
       "      <td>65.000000</td>\n",
       "      <td>1.000000</td>\n",
       "      <td>4.000000</td>\n",
       "      <td>684.000000</td>\n",
       "    </tr>\n",
       "    <tr>\n",
       "      <th rowspan=\"8\" valign=\"top\">3</th>\n",
       "      <th>count</th>\n",
       "      <td>147.000000</td>\n",
       "      <td>147.000000</td>\n",
       "      <td>147.000000</td>\n",
       "      <td>147.000000</td>\n",
       "    </tr>\n",
       "    <tr>\n",
       "      <th>mean</th>\n",
       "      <td>40.374150</td>\n",
       "      <td>0.496599</td>\n",
       "      <td>2.510204</td>\n",
       "      <td>290.285714</td>\n",
       "    </tr>\n",
       "    <tr>\n",
       "      <th>std</th>\n",
       "      <td>13.845632</td>\n",
       "      <td>0.501698</td>\n",
       "      <td>0.761823</td>\n",
       "      <td>175.242493</td>\n",
       "    </tr>\n",
       "    <tr>\n",
       "      <th>min</th>\n",
       "      <td>17.000000</td>\n",
       "      <td>0.000000</td>\n",
       "      <td>1.000000</td>\n",
       "      <td>-369.000000</td>\n",
       "    </tr>\n",
       "    <tr>\n",
       "      <th>25%</th>\n",
       "      <td>28.000000</td>\n",
       "      <td>0.000000</td>\n",
       "      <td>2.000000</td>\n",
       "      <td>306.500000</td>\n",
       "    </tr>\n",
       "    <tr>\n",
       "      <th>50%</th>\n",
       "      <td>39.000000</td>\n",
       "      <td>0.000000</td>\n",
       "      <td>2.000000</td>\n",
       "      <td>357.000000</td>\n",
       "    </tr>\n",
       "    <tr>\n",
       "      <th>75%</th>\n",
       "      <td>52.500000</td>\n",
       "      <td>1.000000</td>\n",
       "      <td>3.000000</td>\n",
       "      <td>372.000000</td>\n",
       "    </tr>\n",
       "    <tr>\n",
       "      <th>max</th>\n",
       "      <td>65.000000</td>\n",
       "      <td>1.000000</td>\n",
       "      <td>4.000000</td>\n",
       "      <td>715.000000</td>\n",
       "    </tr>\n",
       "    <tr>\n",
       "      <th rowspan=\"8\" valign=\"top\">4</th>\n",
       "      <th>count</th>\n",
       "      <td>74.000000</td>\n",
       "      <td>74.000000</td>\n",
       "      <td>74.000000</td>\n",
       "      <td>74.000000</td>\n",
       "    </tr>\n",
       "    <tr>\n",
       "      <th>mean</th>\n",
       "      <td>42.824324</td>\n",
       "      <td>0.540541</td>\n",
       "      <td>2.675676</td>\n",
       "      <td>268.148649</td>\n",
       "    </tr>\n",
       "    <tr>\n",
       "      <th>std</th>\n",
       "      <td>15.607654</td>\n",
       "      <td>0.501756</td>\n",
       "      <td>0.861793</td>\n",
       "      <td>167.257547</td>\n",
       "    </tr>\n",
       "    <tr>\n",
       "      <th>min</th>\n",
       "      <td>17.000000</td>\n",
       "      <td>0.000000</td>\n",
       "      <td>1.000000</td>\n",
       "      <td>-185.000000</td>\n",
       "    </tr>\n",
       "    <tr>\n",
       "      <th>25%</th>\n",
       "      <td>29.000000</td>\n",
       "      <td>0.000000</td>\n",
       "      <td>2.000000</td>\n",
       "      <td>307.250000</td>\n",
       "    </tr>\n",
       "    <tr>\n",
       "      <th>50%</th>\n",
       "      <td>45.000000</td>\n",
       "      <td>1.000000</td>\n",
       "      <td>3.000000</td>\n",
       "      <td>353.000000</td>\n",
       "    </tr>\n",
       "    <tr>\n",
       "      <th>75%</th>\n",
       "      <td>58.000000</td>\n",
       "      <td>1.000000</td>\n",
       "      <td>3.000000</td>\n",
       "      <td>364.000000</td>\n",
       "    </tr>\n",
       "    <tr>\n",
       "      <th>max</th>\n",
       "      <td>64.000000</td>\n",
       "      <td>1.000000</td>\n",
       "      <td>4.000000</td>\n",
       "      <td>434.000000</td>\n",
       "    </tr>\n",
       "  </tbody>\n",
       "</table>\n",
       "</div>"
      ],
      "text/plain": [
       "                               Age      Gender    ageGroup  dateToReturn\n",
       "Diagnosis Detail                                                        \n",
       "1                count  150.000000  150.000000  150.000000    150.000000\n",
       "                 mean    40.253333    0.400000    2.500000    297.153333\n",
       "                 std     13.727544    0.491539    0.739581    168.150410\n",
       "                 min     17.000000    0.000000    1.000000    -88.000000\n",
       "                 25%     28.250000    0.000000    2.000000    326.750000\n",
       "                 50%     40.000000    0.000000    2.000000    362.000000\n",
       "                 75%     51.000000    1.000000    3.000000    375.750000\n",
       "                 max     65.000000    1.000000    4.000000    656.000000\n",
       "2                count  129.000000  129.000000  129.000000    129.000000\n",
       "                 mean    41.534884    0.542636    2.565891    261.976744\n",
       "                 std     14.215994    0.500121    0.808596    178.010115\n",
       "                 min     17.000000    0.000000    1.000000    -29.000000\n",
       "                 25%     30.000000    0.000000    2.000000     22.000000\n",
       "                 50%     43.000000    1.000000    3.000000    358.000000\n",
       "                 75%     52.000000    1.000000    3.000000    370.000000\n",
       "                 max     65.000000    1.000000    4.000000    684.000000\n",
       "3                count  147.000000  147.000000  147.000000    147.000000\n",
       "                 mean    40.374150    0.496599    2.510204    290.285714\n",
       "                 std     13.845632    0.501698    0.761823    175.242493\n",
       "                 min     17.000000    0.000000    1.000000   -369.000000\n",
       "                 25%     28.000000    0.000000    2.000000    306.500000\n",
       "                 50%     39.000000    0.000000    2.000000    357.000000\n",
       "                 75%     52.500000    1.000000    3.000000    372.000000\n",
       "                 max     65.000000    1.000000    4.000000    715.000000\n",
       "4                count   74.000000   74.000000   74.000000     74.000000\n",
       "                 mean    42.824324    0.540541    2.675676    268.148649\n",
       "                 std     15.607654    0.501756    0.861793    167.257547\n",
       "                 min     17.000000    0.000000    1.000000   -185.000000\n",
       "                 25%     29.000000    0.000000    2.000000    307.250000\n",
       "                 50%     45.000000    1.000000    3.000000    353.000000\n",
       "                 75%     58.000000    1.000000    3.000000    364.000000\n",
       "                 max     64.000000    1.000000    4.000000    434.000000"
      ]
     },
     "execution_count": 32,
     "metadata": {},
     "output_type": "execute_result"
    }
   ],
   "source": [
    "df.groupby(\"Diagnosis Detail\").describe()"
   ]
  },
  {
   "cell_type": "code",
   "execution_count": 33,
   "metadata": {
    "collapsed": false
   },
   "outputs": [
    {
     "data": {
      "text/plain": [
       "<matplotlib.axes._subplots.AxesSubplot at 0x116283c10>"
      ]
     },
     "execution_count": 33,
     "metadata": {},
     "output_type": "execute_result"
    },
    {
     "data": {
      "image/png": "[encoded data removed]",
      "text/plain": [
       "<matplotlib.figure.Figure at 0x116221190>"
      ]
     },
     "metadata": {},
     "output_type": "display_data"
    }
   ],
   "source": [
    "sic.boxplot(x= df2[\"Diagnosis Detail\"], y= df2.Age, hue=df2.Gender)"
   ]
  },
  {
   "cell_type": "code",
   "execution_count": 30,
   "metadata": {
    "collapsed": false
   },
   "outputs": [
    {
     "data": {
      "text/plain": [
       "<matplotlib.axes._subplots.AxesSubplot at 0x116256550>"
      ]
     },
     "execution_count": 30,
     "metadata": {},
     "output_type": "execute_result"
    },
    {
     "data": {
      "image/png": "[encoded data removed]",
      "text/plain": [
       "<matplotlib.figure.Figure at 0x115938690>"
      ]
     },
     "metadata": {},
     "output_type": "display_data"
    }
   ],
   "source": [
    "sic.barplot(x= df2.Gender, y= df2[\"Diagnosis Detail\"])"
   ]
  },
  {
   "cell_type": "code",
   "execution_count": 34,
   "metadata": {
    "collapsed": false
   },
   "outputs": [
    {
     "data": {
      "text/plain": [
       "<matplotlib.axes._subplots.AxesSubplot at 0x116785d50>"
      ]
     },
     "execution_count": 34,
     "metadata": {},
     "output_type": "execute_result"
    },
    {
     "data": {
      "image/png": "[encoded data removed]",
      "text/plain": [
       "<matplotlib.figure.Figure at 0x11648b5d0>"
      ]
     },
     "metadata": {},
     "output_type": "display_data"
    }
   ],
   "source": [
    "sic.barplot(x= df2.ageGroup, y= df2[\"Diagnosis Detail\"])"
   ]
  },
  {
   "cell_type": "code",
   "execution_count": 35,
   "metadata": {
    "collapsed": false
   },
   "outputs": [
    {
     "data": {
      "text/html": [
       "<div>\n",
       "<table border=\"1\" class=\"dataframe\">\n",
       "  <thead>\n",
       "    <tr style=\"text-align: right;\">\n",
       "      <th></th>\n",
       "      <th>dateToReturn</th>\n",
       "      <th>ageGroup</th>\n",
       "      <th>Gender</th>\n",
       "      <th>Diagnosis Detail</th>\n",
       "      <th>City</th>\n",
       "      <th>Age</th>\n",
       "    </tr>\n",
       "  </thead>\n",
       "  <tbody>\n",
       "    <tr>\n",
       "      <th>0</th>\n",
       "      <td>355</td>\n",
       "      <td>3</td>\n",
       "      <td>0</td>\n",
       "      <td>2</td>\n",
       "      <td>New York City</td>\n",
       "      <td>43</td>\n",
       "    </tr>\n",
       "    <tr>\n",
       "      <th>1</th>\n",
       "      <td>186</td>\n",
       "      <td>3</td>\n",
       "      <td>1</td>\n",
       "      <td>3</td>\n",
       "      <td>Stockton</td>\n",
       "      <td>44</td>\n",
       "    </tr>\n",
       "    <tr>\n",
       "      <th>2</th>\n",
       "      <td>375</td>\n",
       "      <td>4</td>\n",
       "      <td>1</td>\n",
       "      <td>2</td>\n",
       "      <td>Columbus</td>\n",
       "      <td>63</td>\n",
       "    </tr>\n",
       "    <tr>\n",
       "      <th>3</th>\n",
       "      <td>364</td>\n",
       "      <td>3</td>\n",
       "      <td>0</td>\n",
       "      <td>1</td>\n",
       "      <td>Birmingham</td>\n",
       "      <td>46</td>\n",
       "    </tr>\n",
       "    <tr>\n",
       "      <th>4</th>\n",
       "      <td>61</td>\n",
       "      <td>2</td>\n",
       "      <td>1</td>\n",
       "      <td>2</td>\n",
       "      <td>Columbus</td>\n",
       "      <td>33</td>\n",
       "    </tr>\n",
       "  </tbody>\n",
       "</table>\n",
       "</div>"
      ],
      "text/plain": [
       "   dateToReturn  ageGroup  Gender  Diagnosis Detail           City  Age\n",
       "0           355         3       0                 2  New York City   43\n",
       "1           186         3       1                 3       Stockton   44\n",
       "2           375         4       1                 2       Columbus   63\n",
       "3           364         3       0                 1     Birmingham   46\n",
       "4            61         2       1                 2       Columbus   33"
      ]
     },
     "execution_count": 35,
     "metadata": {},
     "output_type": "execute_result"
    }
   ],
   "source": [
    "df2.head(5)"
   ]
  },
  {
   "cell_type": "code",
   "execution_count": 53,
   "metadata": {
    "collapsed": false
   },
   "outputs": [
    {
     "data": {
      "text/plain": [
       "<matplotlib.axes._subplots.AxesSubplot at 0x1190ed850>"
      ]
     },
     "execution_count": 53,
     "metadata": {},
     "output_type": "execute_result"
    },
    {
     "data": {
      "image/png": "[encoded data removed]",
      "text/plain": [
       "<matplotlib.figure.Figure at 0x117deb250>"
      ]
     },
     "metadata": {},
     "output_type": "display_data"
    }
   ],
   "source": [
    "sic.barplot(x= df2.ageGroup, y= df2.dateToReturn)"
   ]
  },
  {
   "cell_type": "code",
   "execution_count": 36,
   "metadata": {
    "collapsed": true
   },
   "outputs": [],
   "source": [
    "from sklearn.ensemble import RandomForestClassifier\n",
    "model=RandomForestClassifier()\n",
    "\n"
   ]
  },
  {
   "cell_type": "code",
   "execution_count": 37,
   "metadata": {
    "collapsed": false
   },
   "outputs": [
    {
     "data": {
      "text/html": [
       "<div>\n",
       "<table border=\"1\" class=\"dataframe\">\n",
       "  <thead>\n",
       "    <tr style=\"text-align: right;\">\n",
       "      <th></th>\n",
       "      <th>dateToReturn</th>\n",
       "      <th>ageGroup</th>\n",
       "      <th>Gender</th>\n",
       "      <th>Diagnosis Detail</th>\n",
       "      <th>City</th>\n",
       "      <th>Age</th>\n",
       "      <th>1</th>\n",
       "      <th>2</th>\n",
       "      <th>3</th>\n",
       "      <th>4</th>\n",
       "    </tr>\n",
       "  </thead>\n",
       "  <tbody>\n",
       "    <tr>\n",
       "      <th>0</th>\n",
       "      <td>355</td>\n",
       "      <td>3</td>\n",
       "      <td>0</td>\n",
       "      <td>2</td>\n",
       "      <td>New York City</td>\n",
       "      <td>43</td>\n",
       "      <td>0</td>\n",
       "      <td>1</td>\n",
       "      <td>0</td>\n",
       "      <td>0</td>\n",
       "    </tr>\n",
       "    <tr>\n",
       "      <th>1</th>\n",
       "      <td>186</td>\n",
       "      <td>3</td>\n",
       "      <td>1</td>\n",
       "      <td>3</td>\n",
       "      <td>Stockton</td>\n",
       "      <td>44</td>\n",
       "      <td>0</td>\n",
       "      <td>0</td>\n",
       "      <td>1</td>\n",
       "      <td>0</td>\n",
       "    </tr>\n",
       "    <tr>\n",
       "      <th>2</th>\n",
       "      <td>375</td>\n",
       "      <td>4</td>\n",
       "      <td>1</td>\n",
       "      <td>2</td>\n",
       "      <td>Columbus</td>\n",
       "      <td>63</td>\n",
       "      <td>0</td>\n",
       "      <td>1</td>\n",
       "      <td>0</td>\n",
       "      <td>0</td>\n",
       "    </tr>\n",
       "    <tr>\n",
       "      <th>3</th>\n",
       "      <td>364</td>\n",
       "      <td>3</td>\n",
       "      <td>0</td>\n",
       "      <td>1</td>\n",
       "      <td>Birmingham</td>\n",
       "      <td>46</td>\n",
       "      <td>1</td>\n",
       "      <td>0</td>\n",
       "      <td>0</td>\n",
       "      <td>0</td>\n",
       "    </tr>\n",
       "    <tr>\n",
       "      <th>4</th>\n",
       "      <td>61</td>\n",
       "      <td>2</td>\n",
       "      <td>1</td>\n",
       "      <td>2</td>\n",
       "      <td>Columbus</td>\n",
       "      <td>33</td>\n",
       "      <td>0</td>\n",
       "      <td>1</td>\n",
       "      <td>0</td>\n",
       "      <td>0</td>\n",
       "    </tr>\n",
       "  </tbody>\n",
       "</table>\n",
       "</div>"
      ],
      "text/plain": [
       "   dateToReturn  ageGroup  Gender  Diagnosis Detail           City  Age  1  2  \\\n",
       "0           355         3       0                 2  New York City   43  0  1   \n",
       "1           186         3       1                 3       Stockton   44  0  0   \n",
       "2           375         4       1                 2       Columbus   63  0  1   \n",
       "3           364         3       0                 1     Birmingham   46  1  0   \n",
       "4            61         2       1                 2       Columbus   33  0  1   \n",
       "\n",
       "   3  4  \n",
       "0  0  0  \n",
       "1  1  0  \n",
       "2  0  0  \n",
       "3  0  0  \n",
       "4  0  0  "
      ]
     },
     "execution_count": 37,
     "metadata": {},
     "output_type": "execute_result"
    }
   ],
   "source": [
    "dummies = pd.get_dummies(df2['Diagnosis Detail'])\n",
    "dfModel = df2.join(dummies)\n",
    "dfModel.head()"
   ]
  },
  {
   "cell_type": "code",
   "execution_count": 38,
   "metadata": {
    "collapsed": false
   },
   "outputs": [],
   "source": [
    "x = dfModel[dfModel.columns[0:3]]\n",
    "y1 = dfModel[dfModel.columns[4]]\n",
    "y2 = dfModel[dfModel.columns[5]]\n",
    "y3 = dfModel[dfModel.columns[6]]\n",
    "y4 = dfModel[dfModel.columns[7]]"
   ]
  },
  {
   "cell_type": "code",
   "execution_count": 39,
   "metadata": {
    "collapsed": false
   },
   "outputs": [
    {
     "data": {
      "text/plain": [
       "0    New York City\n",
       "1         Stockton\n",
       "2         Columbus\n",
       "3       Birmingham\n",
       "Name: City, dtype: object"
      ]
     },
     "execution_count": 39,
     "metadata": {},
     "output_type": "execute_result"
    }
   ],
   "source": [
    "y1.head(4)"
   ]
  },
  {
   "cell_type": "code",
   "execution_count": 40,
   "metadata": {
    "collapsed": false
   },
   "outputs": [],
   "source": [
    "Modely1 = model.fit(x,y1)"
   ]
  },
  {
   "cell_type": "code",
   "execution_count": 41,
   "metadata": {
    "collapsed": true
   },
   "outputs": [],
   "source": [
    "Modely2 = model.fit(x, y2)"
   ]
  },
  {
   "cell_type": "code",
   "execution_count": 42,
   "metadata": {
    "collapsed": true
   },
   "outputs": [],
   "source": [
    "Modely3 = model.fit(x, y3)"
   ]
  },
  {
   "cell_type": "code",
   "execution_count": 43,
   "metadata": {
    "collapsed": true
   },
   "outputs": [],
   "source": [
    "Modely4 = model.fit(x, y4)"
   ]
  },
  {
   "cell_type": "code",
   "execution_count": 44,
   "metadata": {
    "collapsed": false
   },
   "outputs": [
    {
     "data": {
      "text/plain": [
       "array([ 0.92644405,  0.05567669,  0.01787926])"
      ]
     },
     "execution_count": 44,
     "metadata": {},
     "output_type": "execute_result"
    }
   ],
   "source": [
    "Modely1.feature_importances_\n"
   ]
  },
  {
   "cell_type": "code",
   "execution_count": 45,
   "metadata": {
    "collapsed": false
   },
   "outputs": [
    {
     "data": {
      "text/plain": [
       "array([ 0.92644405,  0.05567669,  0.01787926])"
      ]
     },
     "execution_count": 45,
     "metadata": {},
     "output_type": "execute_result"
    }
   ],
   "source": [
    "Modely2.feature_importances_"
   ]
  },
  {
   "cell_type": "code",
   "execution_count": 46,
   "metadata": {
    "collapsed": false
   },
   "outputs": [
    {
     "data": {
      "text/plain": [
       "array([ 0.92644405,  0.05567669,  0.01787926])"
      ]
     },
     "execution_count": 46,
     "metadata": {},
     "output_type": "execute_result"
    }
   ],
   "source": [
    "Modely3.feature_importances_"
   ]
  },
  {
   "cell_type": "code",
   "execution_count": 47,
   "metadata": {
    "collapsed": false
   },
   "outputs": [
    {
     "data": {
      "text/plain": [
       "array([ 0.92644405,  0.05567669,  0.01787926])"
      ]
     },
     "execution_count": 47,
     "metadata": {},
     "output_type": "execute_result"
    }
   ],
   "source": [
    "Modely4.feature_importances_"
   ]
  },
  {
   "cell_type": "code",
   "execution_count": null,
   "metadata": {
    "collapsed": false
   },
   "outputs": [],
   "source": [
    "Modely1.metrics."
   ]
  },
  {
   "cell_type": "code",
   "execution_count": null,
   "metadata": {
    "collapsed": true
   },
   "outputs": [],
   "source": []
  }
 ],
 "metadata": {
  "anaconda-cloud": {},
  "kernelspec": {
   "display_name": "Python [default]",
   "language": "python",
   "name": "python2"
  },
  "language_info": {
   "codemirror_mode": {
    "name": "ipython",
    "version": 2
   },
   "file_extension": ".py",
   "mimetype": "text/x-python",
   "name": "python",
   "nbconvert_exporter": "python",
   "pygments_lexer": "ipython2",
   "version": "2.7.12"
  }
 },
 "nbformat": 4,
 "nbformat_minor": 1
}
